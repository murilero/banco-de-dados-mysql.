{
  "nbformat": 4,
  "nbformat_minor": 0,
  "metadata": {
    "colab": {
      "provenance": [],
      "include_colab_link": true
    },
    "kernelspec": {
      "name": "python3",
      "display_name": "Python 3"
    },
    "language_info": {
      "name": "python"
    }
  },
  "cells": [
    {
      "cell_type": "markdown",
      "metadata": {
        "id": "view-in-github",
        "colab_type": "text"
      },
      "source": [
        "<a href=\"https://colab.research.google.com/github/murilero/banco-de-dados-mysql./blob/main/C%C3%B3pia_de_2ds_bd_criar_bd_MySQL.ipynb\" target=\"_parent\"><img src=\"https://colab.research.google.com/assets/colab-badge.svg\" alt=\"Open In Colab\"/></a>"
      ]
    },
    {
      "cell_type": "markdown",
      "source": [
        "# PROJETO: CRIAÇÃO DE BANCO DE DADOS COM MYSQL"
      ],
      "metadata": {
        "id": "SHKGCxBl7Tea"
      }
    },
    {
      "cell_type": "code",
      "execution_count": null,
      "metadata": {
        "id": "fQhm_ZR3yUXU"
      },
      "outputs": [],
      "source": [
        "# Instala o MySQL\n",
        "!apt-get install -y mysql-server"
      ]
    },
    {
      "cell_type": "code",
      "source": [
        "# Inicia o serviço do SGDB MySQL\n",
        "!service mysql start"
      ],
      "metadata": {
        "id": "MzHWfvp4zEbT"
      },
      "execution_count": null,
      "outputs": []
    },
    {
      "cell_type": "code",
      "source": [
        "# Configura o MySQL e cria o banco de dados (execute só 1 vez, para executar de novo deve trocar nomes de banco e usuário)\n",
        "!mysql -e \"CREATE DATABASE Escola;\" && echo \"Banco de dados 'Escola' criado com sucesso.\"\n",
        "!mysql -e \"CREATE USER 'adm'@'localhost' IDENTIFIED BY 'senha';\" && echo \"Usuário 'adm' criado com sucesso.\"\n",
        "!mysql -e \"GRANT ALL PRIVILEGES ON Escola.* TO 'adm'@'localhost';\" && echo \"Privilégios concedidos ao usuário 'adm'.\"\n",
        "!mysql -e \"FLUSH PRIVILEGES;\" && echo \"Privilégios atualizados com sucesso.\""
      ],
      "metadata": {
        "id": "XZ6zRMQkzLak"
      },
      "execution_count": null,
      "outputs": []
    },
    {
      "cell_type": "code",
      "source": [
        "# Exlclui o banco de dados\n",
        "#!mysql -e \"DROP DATABASE Escola;\" && echo \"Banco de dados 'Escola' excluído com sucesso.\"\n",
        "\n",
        "# Exlcui usuario do banco de dados\n",
        "#!mysql -e \"DROP USER 'name'@'localhost';\" && echo \"Usuário 'name' excluído com sucesso.\""
      ],
      "metadata": {
        "id": "1ULM4PVo1OPL"
      },
      "execution_count": null,
      "outputs": []
    },
    {
      "cell_type": "code",
      "source": [
        "# Instala a biblioteca mysql.connector\n",
        "!pip install mysql-connector-python"
      ],
      "metadata": {
        "id": "ie4uColJ0HLM"
      },
      "execution_count": null,
      "outputs": []
    },
    {
      "cell_type": "code",
      "source": [
        "# Importa biblioteca mysql.connector\n",
        "import mysql.connector\n",
        "from mysql.connector import Error\n",
        "\n",
        "try:\n",
        "    # Conecta ao banco de dados Escola\n",
        "    conn = mysql.connector.connect(\n",
        "        host=\"localhost\",\n",
        "        user=\"adm\",\n",
        "        password=\"senha\",\n",
        "        database=\"Escola\"\n",
        "    )\n",
        "    # Imprime mensagens para confirmar a conexão\n",
        "    if conn.is_connected():\n",
        "        print(\"Conexão realizada com sucesso.\")\n",
        "\n",
        "    cursor = conn.cursor()\n",
        "\n",
        "except Error as e:\n",
        "    print(f\"Erro ao conectar ao MySQL: {e}\")"
      ],
      "metadata": {
        "id": "dXcj-t5LzmVd"
      },
      "execution_count": null,
      "outputs": []
    },
    {
      "cell_type": "code",
      "source": [
        "# Cria tabelas no bd Escola\n",
        "cursor.execute(\"CREATE TABLE Alunos (id INT AUTO_INCREMENT PRIMARY KEY, nome VARCHAR(100) NOT NULL, data_nascimento DATE NOT NULL, endereco VARCHAR(255) NOT NULL, serie INT NOT NULL);\")\n",
        "cursor.execute(\"CREATE TABLE Professores (id INT AUTO_INCREMENT PRIMARY KEY, nome VARCHAR(100) NOT NULL, especialidade VARCHAR(100) NOT NULL, data_contratacao DATE NOT NULL);\")\n",
        "cursor.execute(\"CREATE TABLE Disciplinas (id INT AUTO_INCREMENT PRIMARY KEY, nome VARCHAR(100) NOT NULL, carga_horaria INT NOT NULL);\")\n"
      ],
      "metadata": {
        "id": "tjBR7Mmx2EFD"
      },
      "execution_count": null,
      "outputs": []
    },
    {
      "cell_type": "code",
      "source": [
        "# Exclui tabelas do banco de dados\n",
        "#cursor.execute(\"DROP TABLE IF EXISTS Alunos1;\")\n",
        "#cursor.execute(\"DROP TABLE IF EXISTS Professores1;\")\n",
        "#cursor.execute(\"DROP TABLE IF EXISTS Disciplinas1;\")"
      ],
      "metadata": {
        "id": "PDe-WGl-2yjG"
      },
      "execution_count": null,
      "outputs": []
    },
    {
      "cell_type": "code",
      "source": [
        " # Exibe as tabelas criadas\n",
        " cursor.execute(\"SHOW TABLES;\")\n",
        " tables = cursor.fetchall()\n",
        " print(\"Tabelas no banco de dados 'Escola:\")\n",
        " for table in tables:\n",
        "  print(table[0])"
      ],
      "metadata": {
        "id": "7d3qrHnh_g0K"
      },
      "execution_count": null,
      "outputs": []
    },
    {
      "cell_type": "code",
      "source": [
        "# Apagar tabelas com \"1\" no nome\n",
        "tabelas_para_apagar = [\"Alunos1\", \"Disciplinas1\", \"Professores1\"]\n",
        "for tabela in tabelas_para_apagar:\n",
        "  try:\n",
        "    cursor.execute(f\"DROP TABLE IF EXISTS {tabela};\")\n",
        "    print(f\"Tabela '{tabela}' apagada com sucesso.\")\n",
        "  except Error as e:\n",
        "    print(f\"Erro ao apagar a tabela '{tabela}': {e}\")"
      ],
      "metadata": {
        "id": "7q66F_xobSe5"
      },
      "execution_count": null,
      "outputs": []
    },
    {
      "cell_type": "code",
      "source": [
        "# Insere dados nas tabelas\n",
        "cursor.execute(\"INSERT INTO Alunos (nome, data_nascimento, endereco, serie) VALUES ('João Silva', '2005-05-15', 'Rua A, 123', 2), ('Maria Oliveira', '2006-08-22', 'Rua B, 456', 2);\")\n",
        "cursor.execute(\"INSERT INTO Professores (nome, especialidade, data_contratacao) VALUES ('Carlos Souza', 'Matemática', '2020-02-01'), ('Ana Lima', 'Português', '2019-03-15');\")\n",
        "cursor.execute(\"INSERT INTO Disciplinas (nome, carga_horaria) VALUES ('Matemática', 200), ('Português', 180);\")"
      ],
      "metadata": {
        "id": "lE-nhCB_2EIE"
      },
      "execution_count": null,
      "outputs": []
    },
    {
      "cell_type": "code",
      "source": [
        "# Importa biblioteca Pandas\n",
        "import pandas as pd\n",
        "\n",
        "# Função para exibir dados de uma tabela em formato de DataFrame\n",
        "def exibir_tabela(nome_tabela):\n",
        "  cursor.execute(f\"SELECT * FROM {nome_tabela};\")\n",
        "  rows = cursor.fetchall()\n",
        "  colunas = [desc[0] for desc in cursor.description]\n",
        "  df = pd.DataFrame(rows, columns=colunas)\n",
        "  print(f\"\\nDados da tabela {nome_tabela}:\")\n",
        "  display(df)\n",
        "\n",
        "# Exibe tabelas criadas\n",
        "cursor.execute(\"SHOW TABLES;\")\n",
        "tables = cursor.fetchall()\n",
        "print(\"Tabelas no banco de dados 'Escola':\")\n",
        "for table in tables:\n",
        "  print(table[0])\n",
        "  exibir_tabela(table[0])"
      ],
      "metadata": {
        "id": "kc-35rZDCZn7"
      },
      "execution_count": null,
      "outputs": []
    },
    {
      "cell_type": "code",
      "source": [
        "# Consulta dados na tabela Alunos\n",
        "cursor.execute(\"SELECT * FROM Alunos;\")\n",
        "for row in cursor.fetchall():\n",
        "    print(row)"
      ],
      "metadata": {
        "id": "tDAL1qea2EK8"
      },
      "execution_count": null,
      "outputs": []
    },
    {
      "cell_type": "code",
      "source": [
        "# Consulta dados na tabela Professores\n",
        "cursor.execute(\"SELECT * FROM Professores;\")\n",
        "for row in cursor.fetchall():\n",
        "    # Formata a data como string (texto)\n",
        "    id, nome, especialidade, data_contratacao = row\n",
        "    print(f\"ID: {id}, Nome: {nome}, Especialidade: {especialidade}, Data de Contratação: {data_contratacao.strftime('%Y-%m-%d')}\")"
      ],
      "metadata": {
        "id": "MboRE90g2EOH"
      },
      "execution_count": null,
      "outputs": []
    },
    {
      "cell_type": "code",
      "source": [
        "# Consulta dados na tabela Disciplinas\n",
        "cursor.execute(\"SELECT * FROM Disciplinas;\")\n",
        "for row in cursor.fetchall():\n",
        "    print(row)"
      ],
      "metadata": {
        "id": "UMKjtFQ-3CMb"
      },
      "execution_count": null,
      "outputs": []
    },
    {
      "cell_type": "code",
      "source": [
        "# Fecha a conexão com o SGDB MySQL\n",
        "try:\n",
        "    cursor.close()\n",
        "    conn.close()\n",
        "    print(\"Conexão fechada com sucesso.\")\n",
        "except Error as e:\n",
        "    print(f\"Erro ao fechar a conexão com MySQL: {e}\")"
      ],
      "metadata": {
        "id": "4Vl4pNun3MmN"
      },
      "execution_count": null,
      "outputs": []
    }
  ]
}